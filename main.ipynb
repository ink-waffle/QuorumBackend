{
 "cells": [
  {
   "cell_type": "code",
   "execution_count": 1,
   "metadata": {},
   "outputs": [],
   "source": [
    "import time\n",
    "import requests\n",
    "import hmac\n",
    "from hashlib import sha256\n",
    "from time import sleep\n",
    "from datetime import datetime\n",
    "\n",
    "APIURL = \"https://open-api.bingx.com\"\n",
    "APIKEY = \"kmrlxk90lSDi2kGOfbDYE3nv3oGA65Os48y7AHamfPxfp1VHq60YJ73cAJrOsYvtKlFa645dnRYQboelN9g\"\n",
    "SECRETKEY = \"IXcnmDomuGMlN3nA5iiytMOPdenUSfMB7tcnstZRklFSWDz6g6TvQWchg07Ee0vSALWjwCYBMVgpcKmJBQgBA\"\n",
    "\n",
    "def get_sign(api_secret, payload):\n",
    "    signature = hmac.new(api_secret.encode(\"utf-8\"), payload.encode(\"utf-8\"), digestmod=sha256).hexdigest()\n",
    "    # print(\"sign=\" + signature)\n",
    "    return signature\n",
    "\n",
    "\n",
    "def parseParam(paramsMap):\n",
    "    sortedKeys = sorted(paramsMap)\n",
    "    paramsStr = \"&\".join([\"%s=%s\" % (x, paramsMap[x]) for x in sortedKeys])\n",
    "    if paramsStr != \"\": \n",
    "     return paramsStr+\"&timestamp=\"+str(int(time.time() * 1000))\n",
    "    else:\n",
    "     return paramsStr+\"timestamp=\"+str(int(time.time() * 1000))\n",
    "\n"
   ]
  },
  {
   "cell_type": "code",
   "execution_count": 13,
   "metadata": {},
   "outputs": [],
   "source": [
    "def tst(timestamp):\n",
    "    paramsMap = {\n",
    "        \"timestamp\": int(datetime.now(pytz.UTC).timestamp() + 2*3600) * 1000,\n",
    "        \"symbol\": \"XAU-USDT\"\n",
    "    }\n",
    "    print(paramsMap['timestamp'])\n",
    "    paramsStr = parseParam(paramsMap)\n",
    "    url = \"%s%s?%s&signature=%s\" % (APIURL, '/openApi/swap/v1/ticker/price', paramsStr, get_sign(SECRETKEY, paramsStr))\n",
    "    # print(url)\n",
    "    headers = {\n",
    "        'X-BX-APIKEY': APIKEY,\n",
    "    }\n",
    "    response = requests.get(url, headers=headers, data={})\n",
    "    return response.text\n"
   ]
  },
  {
   "cell_type": "code",
   "execution_count": 14,
   "metadata": {},
   "outputs": [
    {
     "name": "stdout",
     "output_type": "stream",
     "text": [
      "1730762249000\n"
     ]
    },
    {
     "data": {
      "text/plain": [
       "'{\"code\":109400,\"msg\":\"XAU-USDT,symbol not exist, please verify it in api: /openApi/swap/v2/quote/contracts\",\"data\":{}}'"
      ]
     },
     "metadata": {},
     "output_type": "display_data"
    },
    {
     "name": "stdout",
     "output_type": "stream",
     "text": [
      "1730762249000\n"
     ]
    },
    {
     "data": {
      "text/plain": [
       "'{\"code\":109400,\"msg\":\"XAU-USDT,symbol not exist, please verify it in api: /openApi/swap/v2/quote/contracts\",\"data\":{}}'"
      ]
     },
     "metadata": {},
     "output_type": "display_data"
    },
    {
     "name": "stdout",
     "output_type": "stream",
     "text": [
      "1730762250000\n"
     ]
    },
    {
     "data": {
      "text/plain": [
       "'{\"code\":109400,\"msg\":\"XAU-USDT,symbol not exist, please verify it in api: /openApi/swap/v2/quote/contracts\",\"data\":{}}'"
      ]
     },
     "metadata": {},
     "output_type": "display_data"
    },
    {
     "name": "stdout",
     "output_type": "stream",
     "text": [
      "1730762251000\n"
     ]
    },
    {
     "data": {
      "text/plain": [
       "'{\"code\":109400,\"msg\":\"XAU-USDT,symbol not exist, please verify it in api: /openApi/swap/v2/quote/contracts\",\"data\":{}}'"
      ]
     },
     "metadata": {},
     "output_type": "display_data"
    },
    {
     "name": "stdout",
     "output_type": "stream",
     "text": [
      "1730762251000\n"
     ]
    },
    {
     "data": {
      "text/plain": [
       "'{\"code\":109400,\"msg\":\"XAU-USDT,symbol not exist, please verify it in api: /openApi/swap/v2/quote/contracts\",\"data\":{}}'"
      ]
     },
     "metadata": {},
     "output_type": "display_data"
    },
    {
     "name": "stdout",
     "output_type": "stream",
     "text": [
      "1730762252000\n"
     ]
    },
    {
     "data": {
      "text/plain": [
       "'{\"code\":109400,\"msg\":\"XAU-USDT,symbol not exist, please verify it in api: /openApi/swap/v2/quote/contracts\",\"data\":{}}'"
      ]
     },
     "metadata": {},
     "output_type": "display_data"
    },
    {
     "name": "stdout",
     "output_type": "stream",
     "text": [
      "1730762252000\n"
     ]
    },
    {
     "data": {
      "text/plain": [
       "'{\"code\":109400,\"msg\":\"XAU-USDT,symbol not exist, please verify it in api: /openApi/swap/v2/quote/contracts\",\"data\":{}}'"
      ]
     },
     "metadata": {},
     "output_type": "display_data"
    },
    {
     "name": "stdout",
     "output_type": "stream",
     "text": [
      "1730762253000\n"
     ]
    },
    {
     "data": {
      "text/plain": [
       "'{\"code\":109400,\"msg\":\"XAU-USDT,symbol not exist, please verify it in api: /openApi/swap/v2/quote/contracts\",\"data\":{}}'"
      ]
     },
     "metadata": {},
     "output_type": "display_data"
    },
    {
     "name": "stdout",
     "output_type": "stream",
     "text": [
      "1730762254000\n"
     ]
    },
    {
     "data": {
      "text/plain": [
       "'{\"code\":109400,\"msg\":\"XAU-USDT,symbol not exist, please verify it in api: /openApi/swap/v2/quote/contracts\",\"data\":{}}'"
      ]
     },
     "metadata": {},
     "output_type": "display_data"
    },
    {
     "name": "stdout",
     "output_type": "stream",
     "text": [
      "1730762254000\n"
     ]
    },
    {
     "data": {
      "text/plain": [
       "'{\"code\":109400,\"msg\":\"XAU-USDT,symbol not exist, please verify it in api: /openApi/swap/v2/quote/contracts\",\"data\":{}}'"
      ]
     },
     "metadata": {},
     "output_type": "display_data"
    }
   ],
   "source": [
    "from datetime import datetime\n",
    "for _ in range(10):\n",
    "    # display(tst(int(datetime.now(pytz.UTC).timestamp() * 1000)))\n",
    "    display(tst(500))\n",
    "    sleep(0.3)"
   ]
  },
  {
   "cell_type": "code",
   "execution_count": 6,
   "metadata": {},
   "outputs": [
    {
     "data": {
      "text/plain": [
       "datetime.datetime(2024, 11, 6, 13, 8, 24, 136841, tzinfo=<UTC>)"
      ]
     },
     "execution_count": 6,
     "metadata": {},
     "output_type": "execute_result"
    }
   ],
   "source": [
    "from datetime import datetime\n",
    "import pytz\n",
    "\n",
    "datetime.now(pytz.UTC).astimezone(pytz.UTC).astimezone(pytz.UTC).astimezone(pytz.UTC).astimezone(pytz.UTC)"
   ]
  },
  {
   "cell_type": "code",
   "execution_count": 16,
   "metadata": {},
   "outputs": [
    {
     "name": "stdout",
     "output_type": "stream",
     "text": [
      "WebSocket connected\n",
      "Subscribed to : {\"id\": \"24dd0e35-56a4-4f7a-af8a-394c7060909c\", \"reqType\": \"sub\", \"dataType\": \"BTC-USDT@markPrice\"}\n",
      "'str' object has no attribute 'to_dict'\n",
      "'str' object has no attribute 'to_dict'\n",
      "'str' object has no attribute 'to_dict'\n",
      "\n",
      "The connection is closed!\n"
     ]
    }
   ],
   "source": [
    "import json\n",
    "import websocket\n",
    "import gzip\n",
    "import io\n",
    "URL=\"wss://open-api-swap.bingx.com/swap-market\" \n",
    "CHANNEL= {\"id\":\"24dd0e35-56a4-4f7a-af8a-394c7060909c\",\"reqType\": \"sub\",\"dataType\":\"BTC-USDT@markPrice\"}\n",
    "class Test(object):\n",
    "\n",
    "    def __init__(self):\n",
    "        self.url = URL \n",
    "        self.ws = None\n",
    "\n",
    "    def on_open(self, ws):\n",
    "        print('WebSocket connected')\n",
    "        subStr = json.dumps(CHANNEL)\n",
    "        ws.send(subStr)\n",
    "        print(\"Subscribed to :\",subStr)\n",
    "\n",
    "    def on_data(self, ws, string, type, continue_flag):\n",
    "        compressed_data = gzip.GzipFile(fileobj=io.BytesIO(string), mode='rb')\n",
    "        decompressed_data = compressed_data.read()\n",
    "        utf8_data = decompressed_data.decode('utf-8')\n",
    "        print(utf8_data)\n",
    "\n",
    "    def on_message(self, ws, message):\n",
    "        compressed_data = gzip.GzipFile(fileobj=io.BytesIO(message), mode='rb')\n",
    "        decompressed_data = compressed_data.read()\n",
    "        utf8_data = decompressed_data.decode('utf-8').to_dict()\n",
    "        print(utf8_data)  #this is the message you need \n",
    "        if utf8_data == \"Ping\": # this is very important , if you receive 'Ping' you need to send 'Pong' \n",
    "           ws.send(\"Pong\")\n",
    "\n",
    "    def on_error(self, ws, error):\n",
    "        print(error)\n",
    "\n",
    "    def on_close(self, ws, close_status_code, close_msg):\n",
    "        print('The connection is closed!')\n",
    "\n",
    "    def start(self):\n",
    "        self.ws = websocket.WebSocketApp(\n",
    "            self.url,\n",
    "            on_open=self.on_open,\n",
    "            on_message=self.on_message,\n",
    "            # on_data=self.on_data,\n",
    "            on_error=self.on_error,\n",
    "            on_close=self.on_close,\n",
    "        )\n",
    "        self.ws.run_forever()\n",
    "\n",
    "\n",
    "if __name__ == \"__main__\":\n",
    "    test = Test()\n",
    "    test.start()"
   ]
  },
  {
   "cell_type": "code",
   "execution_count": 20,
   "metadata": {},
   "outputs": [
    {
     "ename": "JSONDecodeError",
     "evalue": "Expecting property name enclosed in double quotes: line 1 column 2 (char 1)",
     "output_type": "error",
     "traceback": [
      "\u001b[0;31m---------------------------------------------------------------------------\u001b[0m",
      "\u001b[0;31mJSONDecodeError\u001b[0m                           Traceback (most recent call last)",
      "Cell \u001b[0;32mIn[20], line 1\u001b[0m\n\u001b[0;32m----> 1\u001b[0m \u001b[43mjson\u001b[49m\u001b[38;5;241;43m.\u001b[39;49m\u001b[43mloads\u001b[49m\u001b[43m(\u001b[49m\u001b[38;5;124;43m\"\u001b[39;49m\u001b[38;5;124;43m{\u001b[39;49m\u001b[38;5;124;43m'\u001b[39;49m\u001b[38;5;124;43msfdas\u001b[39;49m\u001b[38;5;124;43m'\u001b[39;49m\u001b[38;5;124;43m: 4}\u001b[39;49m\u001b[38;5;124;43m\"\u001b[39;49m\u001b[43m)\u001b[49m\n",
      "File \u001b[0;32m/usr/lib/python3.11/json/__init__.py:346\u001b[0m, in \u001b[0;36mloads\u001b[0;34m(s, cls, object_hook, parse_float, parse_int, parse_constant, object_pairs_hook, **kw)\u001b[0m\n\u001b[1;32m    341\u001b[0m     s \u001b[38;5;241m=\u001b[39m s\u001b[38;5;241m.\u001b[39mdecode(detect_encoding(s), \u001b[38;5;124m'\u001b[39m\u001b[38;5;124msurrogatepass\u001b[39m\u001b[38;5;124m'\u001b[39m)\n\u001b[1;32m    343\u001b[0m \u001b[38;5;28;01mif\u001b[39;00m (\u001b[38;5;28mcls\u001b[39m \u001b[38;5;129;01mis\u001b[39;00m \u001b[38;5;28;01mNone\u001b[39;00m \u001b[38;5;129;01mand\u001b[39;00m object_hook \u001b[38;5;129;01mis\u001b[39;00m \u001b[38;5;28;01mNone\u001b[39;00m \u001b[38;5;129;01mand\u001b[39;00m\n\u001b[1;32m    344\u001b[0m         parse_int \u001b[38;5;129;01mis\u001b[39;00m \u001b[38;5;28;01mNone\u001b[39;00m \u001b[38;5;129;01mand\u001b[39;00m parse_float \u001b[38;5;129;01mis\u001b[39;00m \u001b[38;5;28;01mNone\u001b[39;00m \u001b[38;5;129;01mand\u001b[39;00m\n\u001b[1;32m    345\u001b[0m         parse_constant \u001b[38;5;129;01mis\u001b[39;00m \u001b[38;5;28;01mNone\u001b[39;00m \u001b[38;5;129;01mand\u001b[39;00m object_pairs_hook \u001b[38;5;129;01mis\u001b[39;00m \u001b[38;5;28;01mNone\u001b[39;00m \u001b[38;5;129;01mand\u001b[39;00m \u001b[38;5;129;01mnot\u001b[39;00m kw):\n\u001b[0;32m--> 346\u001b[0m     \u001b[38;5;28;01mreturn\u001b[39;00m \u001b[43m_default_decoder\u001b[49m\u001b[38;5;241;43m.\u001b[39;49m\u001b[43mdecode\u001b[49m\u001b[43m(\u001b[49m\u001b[43ms\u001b[49m\u001b[43m)\u001b[49m\n\u001b[1;32m    347\u001b[0m \u001b[38;5;28;01mif\u001b[39;00m \u001b[38;5;28mcls\u001b[39m \u001b[38;5;129;01mis\u001b[39;00m \u001b[38;5;28;01mNone\u001b[39;00m:\n\u001b[1;32m    348\u001b[0m     \u001b[38;5;28mcls\u001b[39m \u001b[38;5;241m=\u001b[39m JSONDecoder\n",
      "File \u001b[0;32m/usr/lib/python3.11/json/decoder.py:337\u001b[0m, in \u001b[0;36mJSONDecoder.decode\u001b[0;34m(self, s, _w)\u001b[0m\n\u001b[1;32m    332\u001b[0m \u001b[38;5;28;01mdef\u001b[39;00m \u001b[38;5;21mdecode\u001b[39m(\u001b[38;5;28mself\u001b[39m, s, _w\u001b[38;5;241m=\u001b[39mWHITESPACE\u001b[38;5;241m.\u001b[39mmatch):\n\u001b[1;32m    333\u001b[0m \u001b[38;5;250m    \u001b[39m\u001b[38;5;124;03m\"\"\"Return the Python representation of ``s`` (a ``str`` instance\u001b[39;00m\n\u001b[1;32m    334\u001b[0m \u001b[38;5;124;03m    containing a JSON document).\u001b[39;00m\n\u001b[1;32m    335\u001b[0m \n\u001b[1;32m    336\u001b[0m \u001b[38;5;124;03m    \"\"\"\u001b[39;00m\n\u001b[0;32m--> 337\u001b[0m     obj, end \u001b[38;5;241m=\u001b[39m \u001b[38;5;28;43mself\u001b[39;49m\u001b[38;5;241;43m.\u001b[39;49m\u001b[43mraw_decode\u001b[49m\u001b[43m(\u001b[49m\u001b[43ms\u001b[49m\u001b[43m,\u001b[49m\u001b[43m \u001b[49m\u001b[43midx\u001b[49m\u001b[38;5;241;43m=\u001b[39;49m\u001b[43m_w\u001b[49m\u001b[43m(\u001b[49m\u001b[43ms\u001b[49m\u001b[43m,\u001b[49m\u001b[43m \u001b[49m\u001b[38;5;241;43m0\u001b[39;49m\u001b[43m)\u001b[49m\u001b[38;5;241;43m.\u001b[39;49m\u001b[43mend\u001b[49m\u001b[43m(\u001b[49m\u001b[43m)\u001b[49m\u001b[43m)\u001b[49m\n\u001b[1;32m    338\u001b[0m     end \u001b[38;5;241m=\u001b[39m _w(s, end)\u001b[38;5;241m.\u001b[39mend()\n\u001b[1;32m    339\u001b[0m     \u001b[38;5;28;01mif\u001b[39;00m end \u001b[38;5;241m!=\u001b[39m \u001b[38;5;28mlen\u001b[39m(s):\n",
      "File \u001b[0;32m/usr/lib/python3.11/json/decoder.py:353\u001b[0m, in \u001b[0;36mJSONDecoder.raw_decode\u001b[0;34m(self, s, idx)\u001b[0m\n\u001b[1;32m    344\u001b[0m \u001b[38;5;250m\u001b[39m\u001b[38;5;124;03m\"\"\"Decode a JSON document from ``s`` (a ``str`` beginning with\u001b[39;00m\n\u001b[1;32m    345\u001b[0m \u001b[38;5;124;03ma JSON document) and return a 2-tuple of the Python\u001b[39;00m\n\u001b[1;32m    346\u001b[0m \u001b[38;5;124;03mrepresentation and the index in ``s`` where the document ended.\u001b[39;00m\n\u001b[0;32m   (...)\u001b[0m\n\u001b[1;32m    350\u001b[0m \n\u001b[1;32m    351\u001b[0m \u001b[38;5;124;03m\"\"\"\u001b[39;00m\n\u001b[1;32m    352\u001b[0m \u001b[38;5;28;01mtry\u001b[39;00m:\n\u001b[0;32m--> 353\u001b[0m     obj, end \u001b[38;5;241m=\u001b[39m \u001b[38;5;28;43mself\u001b[39;49m\u001b[38;5;241;43m.\u001b[39;49m\u001b[43mscan_once\u001b[49m\u001b[43m(\u001b[49m\u001b[43ms\u001b[49m\u001b[43m,\u001b[49m\u001b[43m \u001b[49m\u001b[43midx\u001b[49m\u001b[43m)\u001b[49m\n\u001b[1;32m    354\u001b[0m \u001b[38;5;28;01mexcept\u001b[39;00m \u001b[38;5;167;01mStopIteration\u001b[39;00m \u001b[38;5;28;01mas\u001b[39;00m err:\n\u001b[1;32m    355\u001b[0m     \u001b[38;5;28;01mraise\u001b[39;00m JSONDecodeError(\u001b[38;5;124m\"\u001b[39m\u001b[38;5;124mExpecting value\u001b[39m\u001b[38;5;124m\"\u001b[39m, s, err\u001b[38;5;241m.\u001b[39mvalue) \u001b[38;5;28;01mfrom\u001b[39;00m \u001b[38;5;28;01mNone\u001b[39;00m\n",
      "\u001b[0;31mJSONDecodeError\u001b[0m: Expecting property name enclosed in double quotes: line 1 column 2 (char 1)"
     ]
    }
   ],
   "source": [
    "json.loads(\"{'sfdas': 4}\")"
   ]
  },
  {
   "cell_type": "code",
   "execution_count": null,
   "metadata": {},
   "outputs": [],
   "source": []
  }
 ],
 "metadata": {
  "kernelspec": {
   "display_name": ".venv",
   "language": "python",
   "name": "python3"
  },
  "language_info": {
   "codemirror_mode": {
    "name": "ipython",
    "version": 3
   },
   "file_extension": ".py",
   "mimetype": "text/x-python",
   "name": "python",
   "nbconvert_exporter": "python",
   "pygments_lexer": "ipython3",
   "version": "3.11.2"
  }
 },
 "nbformat": 4,
 "nbformat_minor": 2
}
